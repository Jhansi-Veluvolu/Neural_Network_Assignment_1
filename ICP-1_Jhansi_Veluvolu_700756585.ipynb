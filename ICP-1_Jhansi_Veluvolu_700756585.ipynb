{
 "cells": [
  {
   "cell_type": "code",
   "execution_count": null,
   "id": "0392f019",
   "metadata": {},
   "outputs": [],
   "source": [
    "'''\n",
    "1. Input the string “Python” as a list of characters from console, delete at least 2 characters, reverse the\n",
    "resultantstring and print it.   '''\n"
   ]
  },
  {
   "cell_type": "code",
   "execution_count": 6,
   "id": "c0386231",
   "metadata": {},
   "outputs": [
    {
     "name": "stdout",
     "output_type": "stream",
     "text": [
      "Input: python\n",
      "nhty\n"
     ]
    }
   ],
   "source": [
    "import random\n",
    "n=input(\"Input: \")\n",
    "l=len(n)\n",
    "index=random.sample(range(l),2)\n",
    "for i in index:\n",
    "    n=n.replace(n[i],'')\n",
    "print(n[::-1])"
   ]
  },
  {
   "cell_type": "code",
   "execution_count": 9,
   "id": "bbcaeaeb",
   "metadata": {},
   "outputs": [
    {
     "name": "stdout",
     "output_type": "stream",
     "text": [
      "10\n",
      "2\n",
      "12 8 20 5.0 0 100\n"
     ]
    }
   ],
   "source": [
    "x=int(input())\n",
    "y=int(input())\n",
    "print(x+y, x-y, x*y, x/y, x%y, x**y)"
   ]
  },
  {
   "cell_type": "code",
   "execution_count": null,
   "id": "0e27bc82",
   "metadata": {},
   "outputs": [],
   "source": [
    "'''2. Write a program that accepts a sentence and replace each occurrence of ‘python’ with ‘pythons’.'''"
   ]
  },
  {
   "cell_type": "code",
   "execution_count": 14,
   "id": "732e4632",
   "metadata": {},
   "outputs": [
    {
     "name": "stdout",
     "output_type": "stream",
     "text": [
      "Input a string: I love playing with python\n",
      "I love playing with pythons\n"
     ]
    }
   ],
   "source": [
    "input_string=input(\"Input a string: \")\n",
    "a=input_string.replace('python','pythons')\n",
    "print(a)"
   ]
  },
  {
   "cell_type": "code",
   "execution_count": null,
   "id": "2cd8930e",
   "metadata": {},
   "outputs": [],
   "source": [
    "'''3. Use the if statement conditions to write a program to print the letter grade based on an input class score. Use the\n",
    "grading scheme we are using in this class. '''\n"
   ]
  },
  {
   "cell_type": "code",
   "execution_count": 13,
   "id": "58987f27",
   "metadata": {},
   "outputs": [
    {
     "name": "stdout",
     "output_type": "stream",
     "text": [
      "Enter the percentage: 93\n",
      "A grade\n"
     ]
    }
   ],
   "source": [
    "percentage=float(input('Enter the percentage: '))\n",
    "if(percentage>100):\n",
    "    print('check the percentage you have entered')\n",
    "elif(percentage >=90):\n",
    "    print('A grade')\n",
    "elif(percentage>=80):\n",
    "    print('B grade')\n",
    "elif(percentage>=70):\n",
    "    print('C grade')\n",
    "elif(percentage>=60):\n",
    "    print('D grade')\n",
    "else:\n",
    "    print('F grade')"
   ]
  },
  {
   "cell_type": "code",
   "execution_count": null,
   "id": "9aafbcd6",
   "metadata": {},
   "outputs": [],
   "source": []
  }
 ],
 "metadata": {
  "kernelspec": {
   "display_name": "Python 3 (ipykernel)",
   "language": "python",
   "name": "python3"
  },
  "language_info": {
   "codemirror_mode": {
    "name": "ipython",
    "version": 3
   },
   "file_extension": ".py",
   "mimetype": "text/x-python",
   "name": "python",
   "nbconvert_exporter": "python",
   "pygments_lexer": "ipython3",
   "version": "3.9.12"
  }
 },
 "nbformat": 4,
 "nbformat_minor": 5
}
